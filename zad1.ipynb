{
 "cells": [
  {
   "cell_type": "code",
   "execution_count": 2,
   "id": "f0e20e50",
   "metadata": {},
   "outputs": [],
   "source": [
    "import numpy as np\n",
    "import cmath"
   ]
  },
  {
   "cell_type": "code",
   "execution_count": 3,
   "id": "81af7237",
   "metadata": {},
   "outputs": [],
   "source": [
    "def compute_poly(arr, x):\n",
    "    fun = 0\n",
    "    stopien = arr[0]\n",
    "    if len(arr) < stopien + 2:\n",
    "        print(f'Podano za mało współczynników, potrzeba ich {int(stopien)+1}. Popraw w pliku.')\n",
    "        return 0\n",
    "    \n",
    "    if len(arr) > stopien + 2:\n",
    "        print(f'Podano więcej współczynników niż oczekiwana liczba: {int(stopien)+1}. Popraw w pliku.')\n",
    "        return 0\n",
    "    \n",
    "    for i in range(int(stopien)+1):\n",
    "        fun = fun + arr[i+1] * np.power(x, i)\n",
    "    return fun"
   ]
  },
  {
   "cell_type": "code",
   "execution_count": 4,
   "id": "a594ce6e",
   "metadata": {},
   "outputs": [],
   "source": [
    "def compute_deriv_poly(arr, x):\n",
    "    fun_deriv = 0\n",
    "    stopien = arr[0]\n",
    "    if len(arr) < stopien + 2:\n",
    "        print(f'Podano za mało współczynników, potrzeba ich {int(stopien)+1}. Popraw w pliku.')\n",
    "        return 0\n",
    "    \n",
    "    if len(arr) > stopien + 2:\n",
    "        print(f'Podano więcej współczynników niż oczekiwana liczba: {int(stopien)+1}. Popraw w pliku.')\n",
    "        return 0\n",
    "    \n",
    "    for i in range(2, int(stopien)+1):\n",
    "        fun_deriv = fun_deriv + i * arr[i+1] * np.power(x, i-1)\n",
    "        \n",
    "    return fun_deriv"
   ]
  },
  {
   "cell_type": "code",
   "execution_count": 5,
   "id": "98a84e47",
   "metadata": {},
   "outputs": [],
   "source": [
    "# po wykonaniu 'with' plik samoczynnie zamyka się, nie trzeba pisać f.close()\n",
    "def load_polynomial(plik):\n",
    "    with open(plik, 'r') as f:\n",
    "        lines = f.read()  \n",
    "        \n",
    "    wspolczynniki = [float(l) for l in lines.splitlines()]\n",
    "    #print(wspolczynniki)\n",
    "    return wspolczynniki"
   ]
  },
  {
   "cell_type": "code",
   "execution_count": 15,
   "id": "2d1396e9",
   "metadata": {},
   "outputs": [],
   "source": [
    "#compute_poly(wspolczynniki, complex(2,0))\n",
    "#compute_deriv_poly(wspolczynniki, complex(1,1))"
   ]
  },
  {
   "cell_type": "code",
   "execution_count": 6,
   "id": "6b2dff81",
   "metadata": {},
   "outputs": [],
   "source": [
    "#eps - dokładność obliczeń\n",
    "\n",
    "def Newton(lista_wsp, n_steps=2e3, eps=1e-8):\n",
    "    \n",
    "#     if 'lista_startowych' not in locals():\n",
    "#         lista_startowych = []\n",
    "        \n",
    "#     if 'lista_pierwiastkow' not in locals():\n",
    "#         lista_pierwiastkow = []\n",
    "\n",
    "    k = 1\n",
    "    startowy = False\n",
    "    while(startowy==False):\n",
    "        try:\n",
    "            z0 = complex(input(\"Wprowadź punkt startowy (rzeczywisty lub zespolony): \"))\n",
    "            startowy = True\n",
    "        except:\n",
    "            #print(\"Aby zakończyć program, wpisz: exit.\")\n",
    "            print(\"Punkt startowy musi być typu 'complex'. Spróbuj ponownie:\")\n",
    "            continue\n",
    "            \n",
    "    lista_startowych.append(z0)\n",
    "    f0 = compute_poly(lista_wsp, z0)\n",
    "    z1 = z0 - 1\n",
    "    \n",
    "    while((k <= n_steps) and (np.abs(z0 - z1) > eps) and (np.abs(f0) > eps)):\n",
    "\n",
    "        try:\n",
    "            fp0 = compute_deriv_poly(lista_wsp, z0)\n",
    "            z1 = z0\n",
    "            z0 = z0 - f0/fp0\n",
    "        except:\n",
    "            print(\"Pochodna w punkcie startowym wynosi 0!\")\n",
    "            pass\n",
    "        \n",
    "        if np.abs(fp0) < eps:\n",
    "            print(\"Zły punkt startowy\")\n",
    "            break\n",
    "\n",
    "        #print(f'W kroku {k} mamy z0 = {z0}')\n",
    "        \n",
    "        f0 = compute_poly(lista_wsp, z0)\n",
    "        k = k+1\n",
    "        \n",
    "    if np.abs(f0) > eps:\n",
    "        print(\"Algorytm nie był w stanie znaleźć miejsca zerowego tego wielomianu przy takim punkcie startowym.\")\n",
    "        print(f\"Liczba znalezionych pierwiastków: {len(lista_pierwiastkow)}, ich lista: {lista_pierwiastkow}.\")\n",
    "        #Newton(lista_wsp, n_steps, eps)\n",
    "        #pass\n",
    "    else:\n",
    "        if len(lista_pierwiastkow) != 0:\n",
    "            if np.round(z0, 6) in lista_pierwiastkow:\n",
    "                print(\"Znaleziony pierwiastek jest już na liście.\")\n",
    "            else: \n",
    "                lista_pierwiastkow.append(np.round(z0, 6))\n",
    "                \n",
    "        else: \n",
    "            lista_pierwiastkow.append(np.round(z0, 6))\n",
    "            \n",
    "        if len(lista_pierwiastkow) == len(wspolczynniki)-2:\n",
    "            print(f\"Miejsca zerowe tego wielomianu to: {lista_pierwiastkow}.\")\n",
    "        else:\n",
    "            Newton(lista_wsp, n_steps, eps)\n",
    "            \n",
    "    return 0\n",
    "        "
   ]
  },
  {
   "cell_type": "code",
   "execution_count": 7,
   "id": "031e2d05",
   "metadata": {},
   "outputs": [],
   "source": [
    "wspolczynniki = load_polynomial('wielomian.txt')"
   ]
  },
  {
   "cell_type": "code",
   "execution_count": 8,
   "id": "26330f37",
   "metadata": {},
   "outputs": [],
   "source": [
    "def Rouche(lista_wsp, R):\n",
    "    \"\"\"Funkcja do wyszukiwania liczby zer wielomianu f w dysku o środku w 0 i promieniu R\"\"\"\n",
    "    \n",
    "    #print(lista_wsp[0])\n",
    "    #print(lista_wsp[-1])\n",
    "    h =  lista_wsp[-1] * np.power(R, lista_wsp[0]) # h(z) = a_n * z^n\n",
    "    g = compute_poly(lista_wsp, R) - h # g(z) = a_{n-1} * z^{n-1} + ... + a_0\n",
    "    try:\n",
    "        iloraz = np.abs(g/h)\n",
    "    except:\n",
    "        print(\"Nie można dzielić przez 0.\")\n",
    "        return None\n",
    "    if iloraz < 1:\n",
    "        print(\"Liczba zer na zbiorze {z: |z| <= R} wynosi: \", len(lista_wsp)-2)\n",
    "    elif iloraz == 1:\n",
    "        print(\"Wartość graniczna R, może zdarzyć się, że pierwiastki leżą na konturze.\")\n",
    "    else:\n",
    "        print(f\"Na zadanym zbiorze nie znajdziemy wszystkich {len(lista_wsp)-2} zer, trzeba zwiększyć obszar (promień R).\")"
   ]
  },
  {
   "cell_type": "code",
   "execution_count": 13,
   "id": "9bd9b8b7",
   "metadata": {},
   "outputs": [
    {
     "name": "stdout",
     "output_type": "stream",
     "text": [
      "Liczba zer na zbiorze {z: |z| <= R} wynosi:  3\n"
     ]
    }
   ],
   "source": [
    "Rouche(wspolczynniki, 5)"
   ]
  },
  {
   "cell_type": "code",
   "execution_count": 11,
   "id": "8a04fd5b",
   "metadata": {
    "scrolled": true
   },
   "outputs": [
    {
     "name": "stdout",
     "output_type": "stream",
     "text": [
      "Wprowadź punkt startowy (rzeczywisty lub zespolony): 1\n",
      "Wprowadź punkt startowy (rzeczywisty lub zespolony): -1\n",
      "Wprowadź punkt startowy (rzeczywisty lub zespolony): 2\n",
      "Miejsca zerowe tego wielomianu to: [(1+0j), (-1+0j), (2+0j)].\n"
     ]
    },
    {
     "data": {
      "text/plain": [
       "0"
      ]
     },
     "execution_count": 11,
     "metadata": {},
     "output_type": "execute_result"
    }
   ],
   "source": [
    "lista_startowych = []\n",
    "lista_pierwiastkow = []\n",
    "Newton(wspolczynniki, n_steps=3000)"
   ]
  },
  {
   "cell_type": "code",
   "execution_count": null,
   "id": "95b5edd0",
   "metadata": {},
   "outputs": [],
   "source": []
  },
  {
   "cell_type": "code",
   "execution_count": 17,
   "id": "a92ed02e",
   "metadata": {},
   "outputs": [
    {
     "name": "stdout",
     "output_type": "stream",
     "text": [
      "9\n",
      "[1, 2, 3, 4, 5, 6, 7, 8]\n"
     ]
    }
   ],
   "source": [
    "new = [1,2,3,4,5,6,7,8,9]\n",
    "f1 = new[-1]\n",
    "f2 = new[:-1]\n",
    "print(f1)\n",
    "print(f2)"
   ]
  },
  {
   "cell_type": "code",
   "execution_count": null,
   "id": "8ad42ddc",
   "metadata": {},
   "outputs": [],
   "source": []
  },
  {
   "cell_type": "code",
   "execution_count": null,
   "id": "1f081424",
   "metadata": {},
   "outputs": [],
   "source": []
  }
 ],
 "metadata": {
  "kernelspec": {
   "display_name": "Python 3 (ipykernel)",
   "language": "python",
   "name": "python3"
  },
  "language_info": {
   "codemirror_mode": {
    "name": "ipython",
    "version": 3
   },
   "file_extension": ".py",
   "mimetype": "text/x-python",
   "name": "python",
   "nbconvert_exporter": "python",
   "pygments_lexer": "ipython3",
   "version": "3.7.11"
  }
 },
 "nbformat": 4,
 "nbformat_minor": 5
}
